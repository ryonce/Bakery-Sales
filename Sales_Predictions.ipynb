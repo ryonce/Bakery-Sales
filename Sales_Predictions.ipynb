{
  "nbformat": 4,
  "nbformat_minor": 0,
  "metadata": {
    "colab": {
      "provenance": [],
      "authorship_tag": "ABX9TyOl89cefZH0oStFHH/ZZf4x",
      "include_colab_link": true
    },
    "kernelspec": {
      "name": "python3",
      "display_name": "Python 3"
    },
    "language_info": {
      "name": "python"
    }
  },
  "cells": [
    {
      "cell_type": "markdown",
      "metadata": {
        "id": "view-in-github",
        "colab_type": "text"
      },
      "source": [
        "<a href=\"https://colab.research.google.com/github/ryonce/Sales-Predictions/blob/main/Sales_Predictions.ipynb\" target=\"_parent\"><img src=\"https://colab.research.google.com/assets/colab-badge.svg\" alt=\"Open In Colab\"/></a>"
      ]
    },
    {
      "cell_type": "markdown",
      "source": [
        "# Project 1 - Part 1\n",
        "- Robert Yonce\n",
        "\n",
        "## Loading Data\n",
        "\n",
        "## Cleaning Data\n",
        "\n",
        "## Exploratory Visuals\n",
        "\n",
        "## Explanatory Visuals\n",
        "\n"
      ],
      "metadata": {
        "id": "ilPvgy3cnLD9"
      }
    },
    {
      "cell_type": "code",
      "execution_count": null,
      "metadata": {
        "id": "LjnL2OAKl4EF"
      },
      "outputs": [],
      "source": []
    }
  ]
}